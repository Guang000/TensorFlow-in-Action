{
 "cells": [
  {
   "cell_type": "code",
   "execution_count": 1,
   "metadata": {},
   "outputs": [
    {
     "name": "stderr",
     "output_type": "stream",
     "text": [
      "C:\\Soft\\Anaconda\\lib\\site-packages\\h5py\\__init__.py:36: FutureWarning: Conversion of the second argument of issubdtype from `float` to `np.floating` is deprecated. In future, it will be treated as `np.float64 == np.dtype(float).type`.\n",
      "  from ._conv import register_converters as _register_converters\n"
     ]
    }
   ],
   "source": [
    "from datetime import datetime\n",
    "import math\n",
    "import time\n",
    "import tensorflow as tf"
   ]
  },
  {
   "cell_type": "code",
   "execution_count": 2,
   "metadata": {},
   "outputs": [],
   "source": [
    "def conv_op(input_op, name, kh, kw, n_out, dh, dw, p):\n",
    "    n_in = input_op.get_shape()[-1].value\n",
    "\n",
    "    with tf.name_scope(name) as scope:\n",
    "        kernel = tf.get_variable(\n",
    "            scope + \"w\",\n",
    "            shape=[kh, kw, n_in, n_out],\n",
    "            dtype=tf.float32,\n",
    "            initializer=tf.contrib.layers.xavier_initializer_conv2d())\n",
    "        conv = tf.nn.conv2d(input_op, kernel, (1, dh, dw, 1), padding='SAME')\n",
    "        bias_init_val = tf.constant(0.0, shape=[n_out], dtype=tf.float32)\n",
    "        biases = tf.Variable(bias_init_val, trainable=True, name='b')\n",
    "        z = tf.nn.bias_add(conv, biases)\n",
    "        activation = tf.nn.relu(z, name=scope)\n",
    "        p += [kernel, biases]\n",
    "        return activation"
   ]
  },
  {
   "cell_type": "code",
   "execution_count": 3,
   "metadata": {},
   "outputs": [],
   "source": [
    "def fc_op(input_op, name, n_out, p):\n",
    "    n_in = input_op.get_shape()[-1].value\n",
    "\n",
    "    with tf.name_scope(name) as scope:\n",
    "        kernel = tf.get_variable(\n",
    "            scope + \"w\",\n",
    "            shape=[n_in, n_out],\n",
    "            dtype=tf.float32,\n",
    "            initializer=tf.contrib.layers.xavier_initializer())\n",
    "        biases = tf.Variable(\n",
    "            tf.constant(0.1, shape=[n_out], dtype=tf.float32), name='b')\n",
    "        activation = tf.nn.relu_layer(input_op, kernel, biases, name=scope)\n",
    "        p += [kernel, biases]\n",
    "        return activation"
   ]
  },
  {
   "cell_type": "code",
   "execution_count": 4,
   "metadata": {},
   "outputs": [],
   "source": [
    "def mpool_op(input_op, name, kh, kw, dh, dw):\n",
    "    return tf.nn.max_pool(\n",
    "        input_op,\n",
    "        ksize=[1, kh, kw, 1],\n",
    "        strides=[1, dh, dw, 1],\n",
    "        padding='SAME',\n",
    "        name=name)"
   ]
  },
  {
   "cell_type": "code",
   "execution_count": 5,
   "metadata": {},
   "outputs": [],
   "source": [
    "def inference_op(input_op, keep_prop):\n",
    "    p = []\n",
    "\n",
    "    conv1_1 = conv_op(\n",
    "        input_op, name=\"conv1_1\", kh=3, kw=3, n_out=64, dh=1, dw=1, p=p)\n",
    "\n",
    "    conv1_2 = conv_op(\n",
    "        conv1_1, name=\"conv1_2\", kh=3, kw=3, n_out=64, dh=1, dw=1, p=p)\n",
    "\n",
    "    pool1 = mpool_op(conv1_2, name=\"pool1\", kh=2, kw=2, dh=2, dw=2)\n",
    "\n",
    "    conv2_1 = conv_op(\n",
    "        pool1, name=\"conv2_1\", kh=3, kw=3, n_out=128, dh=1, dw=1, p=p)\n",
    "\n",
    "    conv2_2 = conv_op(\n",
    "        conv2_1, name=\"conv2_2\", kh=3, kw=3, n_out=128, dh=1, dw=1, p=p)\n",
    "\n",
    "    pool2 = mpool_op(conv2_2, name=\"pool2\", kh=2, kw=2, dh=2, dw=2)\n",
    "\n",
    "    conv3_1 = conv_op(\n",
    "        pool2, name=\"conv3_1\", kh=3, kw=3, n_out=256, dh=1, dw=1, p=p)\n",
    "\n",
    "    conv3_2 = conv_op(\n",
    "        conv3_1, name=\"conv3_2\", kh=3, kw=3, n_out=256, dh=1, dw=1, p=p)\n",
    "\n",
    "    conv3_3 = conv_op(\n",
    "        conv3_2, name=\"conv3_3\", kh=3, kw=3, n_out=256, dh=1, dw=1, p=p)\n",
    "\n",
    "    pool3 = mpool_op(conv3_3, name=\"pool3\", kh=2, kw=2, dh=2, dw=2)\n",
    "\n",
    "    conv4_1 = conv_op(\n",
    "        pool3, name=\"conv4_1\", kh=3, kw=3, n_out=512, dh=1, dw=1, p=p)\n",
    "\n",
    "    conv4_2 = conv_op(\n",
    "        conv4_1, name=\"conv4_2\", kh=3, kw=3, n_out=512, dh=1, dw=1, p=p)\n",
    "\n",
    "    conv4_3 = conv_op(\n",
    "        conv4_2, name=\"conv4_3\", kh=3, kw=3, n_out=512, dh=1, dw=1, p=p)\n",
    "\n",
    "    pool4 = mpool_op(conv4_3, name=\"pool4\", kh=2, kw=2, dh=2, dw=2)\n",
    "\n",
    "    conv5_1 = conv_op(\n",
    "        pool4, name=\"conv5_1\", kh=3, kw=3, n_out=512, dh=1, dw=1, p=p)\n",
    "\n",
    "    conv5_2 = conv_op(\n",
    "        conv5_1, name=\"conv5_2\", kh=3, kw=3, n_out=512, dh=1, dw=1, p=p)\n",
    "\n",
    "    conv5_3 = conv_op(\n",
    "        conv5_2, name=\"conv5_3\", kh=3, kw=3, n_out=512, dh=1, dw=1, p=p)\n",
    "\n",
    "    pool5 = mpool_op(conv5_3, name=\"pool5\", kh=2, kw=2, dh=2, dw=2)\n",
    "\n",
    "    shp = pool5.get_shape()\n",
    "    flattened_shape = shp[1].value * shp[2].value * shp[3].value\n",
    "    resh1 = tf.reshape(pool5, [-1, flattened_shape], name=\"resh1\")\n",
    "\n",
    "    fc6 = fc_op(resh1, name=\"fc6\", n_out=4096, p=p)\n",
    "    fc6_drop = tf.nn.dropout(fc6, keep_prop, name=\"fc6_drop\")\n",
    "\n",
    "    fc7 = fc_op(fc6_drop, name=\"fc7\", n_out=4096, p=p)\n",
    "    fc7_drop = tf.nn.dropout(fc7, keep_prop, name=\"fc7_drop\")\n",
    "\n",
    "    fc8 = fc_op(fc7_drop, name=\"fc8\", n_out=1000, p=p)\n",
    "    softmax = tf.nn.softmax(fc8)\n",
    "    predictions = tf.argmax(softmax, 1)\n",
    "    return predictions, softmax, fc8, p"
   ]
  },
  {
   "cell_type": "code",
   "execution_count": 6,
   "metadata": {},
   "outputs": [],
   "source": [
    "def time_tensorflow_run(session, target, feed, info_string):\n",
    "    num_steps_burn_in = 10\n",
    "    total_duration = 0.0\n",
    "    total_duration_squared = 0.0\n",
    "    for i in range(num_batches + num_steps_burn_in):\n",
    "        start_time = time.time()\n",
    "        _ = session.run(target, feed_dict=feed)\n",
    "        duration = time.time() - start_time\n",
    "        if i >= num_steps_burn_in:\n",
    "            if not i % 10:\n",
    "                print('%s: step %d,duration = %.3f' %\n",
    "                      (datetime.now(), i - num_steps_burn_in, duration))\n",
    "            total_duration += duration\n",
    "            total_duration_squared += duration * duration\n",
    "    mn = total_duration / num_batches\n",
    "    vr = total_duration_squared / num_batches - mn * mn\n",
    "    sd = math.sqrt(vr)\n",
    "    print('%s: %s across %d steps, %.3f +/- %.3f sec / batch' %\n",
    "          (datetime.now(), info_string, num_batches, mn, sd))"
   ]
  },
  {
   "cell_type": "code",
   "execution_count": 7,
   "metadata": {},
   "outputs": [],
   "source": [
    "def run_benchmark():\n",
    "    with tf.Graph().as_default():\n",
    "        image_size = 32\n",
    "        images = tf.Variable(\n",
    "            tf.random_normal([batch_size, image_size, image_size, 3],\n",
    "                             dtype=tf.float32,\n",
    "                             stddev=1e-1))\n",
    "\n",
    "        keep_prop = tf.placeholder(tf.float32)\n",
    "        predictions, softmax, fc8, p = inference_op(images, keep_prop)\n",
    "\n",
    "        init = tf.global_variables_initializer()\n",
    "        sess = tf.Session()\n",
    "        sess.run(init)\n",
    "\n",
    "        time_tensorflow_run(sess, predictions, {keep_prop: 1.0}, \"Forward\")\n",
    "        objective = tf.nn.l2_loss(fc8)\n",
    "        grad = tf.gradients(objective, p)\n",
    "        time_tensorflow_run(sess, grad, {keep_prop: 0.5}, \"Forward-backward\")"
   ]
  },
  {
   "cell_type": "code",
   "execution_count": 8,
   "metadata": {},
   "outputs": [
    {
     "name": "stdout",
     "output_type": "stream",
     "text": [
      "2019-03-14 11:19:04.829757: step 0,duration = 0.203\n",
      "2019-03-14 11:19:09.352198: step 10,duration = 0.686\n",
      "2019-03-14 11:19:16.480106: step 20,duration = 0.655\n",
      "2019-03-14 11:19:21.777225: step 30,duration = 0.474\n",
      "2019-03-14 11:19:26.011677: step 40,duration = 0.377\n",
      "2019-03-14 11:19:29.686850: step 50,duration = 0.353\n",
      "2019-03-14 11:19:32.927123: step 60,duration = 0.312\n",
      "2019-03-14 11:19:35.110741: step 70,duration = 0.193\n",
      "2019-03-14 11:19:37.326861: step 80,duration = 0.516\n",
      "2019-03-14 11:19:43.251823: step 90,duration = 0.597\n",
      "2019-03-14 11:19:48.589159: Forward across 100 steps, 0.439 +/- 0.176 sec / batch\n",
      "2019-03-14 11:20:11.058851: step 0,duration = 1.666\n",
      "2019-03-14 11:20:26.973275: step 10,duration = 1.345\n",
      "2019-03-14 11:20:41.882218: step 20,duration = 1.273\n",
      "2019-03-14 11:20:55.742655: step 30,duration = 1.322\n",
      "2019-03-14 11:21:10.423343: step 40,duration = 1.285\n",
      "2019-03-14 11:21:27.528488: step 50,duration = 1.438\n",
      "2019-03-14 11:21:56.648442: step 60,duration = 2.297\n",
      "2019-03-14 11:22:12.545088: step 70,duration = 1.369\n",
      "2019-03-14 11:22:27.272637: step 80,duration = 1.245\n",
      "2019-03-14 11:22:41.852807: step 90,duration = 1.250\n",
      "2019-03-14 11:22:57.121097: Forward-backward across 100 steps, 1.677 +/- 0.602 sec / batch\n"
     ]
    }
   ],
   "source": [
    "batch_size = 32\n",
    "num_batches = 100\n",
    "run_benchmark()"
   ]
  }
 ],
 "metadata": {
  "kernelspec": {
   "display_name": "Python 3",
   "language": "python",
   "name": "python3"
  },
  "language_info": {
   "codemirror_mode": {
    "name": "ipython",
    "version": 3
   },
   "file_extension": ".py",
   "mimetype": "text/x-python",
   "name": "python",
   "nbconvert_exporter": "python",
   "pygments_lexer": "ipython3",
   "version": "3.6.5"
  }
 },
 "nbformat": 4,
 "nbformat_minor": 2
}
